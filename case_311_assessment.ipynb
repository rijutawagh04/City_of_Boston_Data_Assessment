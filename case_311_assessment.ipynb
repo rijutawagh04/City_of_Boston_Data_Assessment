{
 "cells": [
  {
   "cell_type": "code",
   "execution_count": 3,
   "metadata": {},
   "outputs": [],
   "source": [
    "import os\n",
    "import pandas as pd\n",
    "import datetime\n",
    "import urllib\n",
    "import requests\n",
    "pd.set_option('display.max_columns', 500)"
   ]
  },
  {
   "cell_type": "code",
   "execution_count": 39,
   "metadata": {
    "scrolled": true
   },
   "outputs": [],
   "source": [
    "def read_last_30days_data_from_url():\n",
    "    start_date=datetime.datetime.now() - datetime.timedelta(days=30)\n",
    "    date_string=start_date.strftime(\"%Y-%m-%d\")\n",
    "    url = 'https://data.boston.gov/api/3/action/datastore_search_sql?sql=SELECT * from \"2968e2c0-d479-49ba-a884-4ef523ada3c0\" WHERE open_dt >=\\''+date_string+'\\' ORDER BY open_dt desc' \n",
    "    fileobj = requests.get(url)\n",
    "    json_response = fileobj.json()\n",
    "    current_data=pd.DataFrame(json_response['result']['records'])\n",
    "    current_data=current_data.sort_values(by='_id')\n",
    "    current_data=current_data.drop('_full_text',axis=1)\n",
    "    return current_data\n",
    "\n",
    "def find_prev_file():\n",
    "    try:\n",
    "        with open('C:/Users/rwagh/Desktop/City of Boston data asssesment/Output/cases_311_data.csv') as fh:\n",
    "            return pd.read_csv(fh)\n",
    "    except FileNotFoundError:\n",
    "        print('file not found')\n",
    "        return None\n",
    "    \n",
    "def allign_data_type_of_current_data(current_data,prev_data):\n",
    "    for column in current_data.columns:\n",
    "        current_data[column] = current_data[column].astype(prev_data[column].dtype)\n",
    "    return current_data\n",
    "\n",
    "def add_delta_to_prev_data(current_data,prev_data):\n",
    "    current_data=allign_data_type_of_current_data(current_data,prev_data)\n",
    "    merged=pd.merge(current_data, prev_data,on='_id',how='left',left_index=False,right_index=False, indicator=True)\n",
    "    to_be_appended = merged.loc[merged._merge == 'left_only']\n",
    "    to_be_appended = to_be_appended[to_be_appended.columns[~to_be_appended.columns.str.endswith('_y')]]\n",
    "    to_be_appended.columns = to_be_appended.columns.str.rstrip('_x')\n",
    "    to_be_appended = to_be_appended.drop(['_merge'], axis=1) \n",
    "    return prev_data.append(to_be_appended)\n",
    "\n",
    "current_data=read_last_30days_data_from_url()\n",
    "prev_data=find_prev_file()\n",
    "if prev_data is None:\n",
    "     current_data.to_csv('Output/cases_311_data.csv',index=False)\n",
    "else:\n",
    "    new_data=add_delta_to_prev_data(current_data,prev_data)\n",
    "    #new_data = new_data.drop_duplicates()\n",
    "    new_data=new_data.sort_values(by='_id')\n",
    "    new_data.to_csv('Output/cases_311_data.csv',index=False)"
   ]
  },
  {
   "cell_type": "code",
   "execution_count": null,
   "metadata": {},
   "outputs": [],
   "source": []
  },
  {
   "cell_type": "code",
   "execution_count": null,
   "metadata": {},
   "outputs": [],
   "source": []
  }
 ],
 "metadata": {
  "kernelspec": {
   "display_name": "Python 3",
   "language": "python",
   "name": "python3"
  },
  "language_info": {
   "codemirror_mode": {
    "name": "ipython",
    "version": 3
   },
   "file_extension": ".py",
   "mimetype": "text/x-python",
   "name": "python",
   "nbconvert_exporter": "python",
   "pygments_lexer": "ipython3",
   "version": "3.7.3"
  }
 },
 "nbformat": 4,
 "nbformat_minor": 2
}
